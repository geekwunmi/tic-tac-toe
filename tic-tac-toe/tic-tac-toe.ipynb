{
 "cells": [
  {
   "cell_type": "code",
   "execution_count": null,
   "id": "ec6653a7",
   "metadata": {
    "pycharm": {
     "name": "#%%\n"
    }
   },
   "outputs": [],
   "source": [
    "# This part of the game needs to be reviewed to make work\n",
    "# It is an attempt to re-create the functions of the base game into a unique \n",
    "# ggame. Please rework and add into main game or delete entirely if not needed"
   ]
  },
  {
   "cell_type": "code",
   "execution_count": 2,
   "id": "1fd40d02",
   "metadata": {
    "pycharm": {
     "name": "#%%\n"
    }
   },
   "outputs": [],
   "source": [
    "player1 = input(\"Please pick a marker 'X' or 'O'\")\n",
    "\n",
    "position = int(input('Please enter a number '))\n",
    "                \n",
    "from IPython.display import clear_output\n",
    "\n",
    "def display_board(gameboard):\n",
    "    clear_output()\n",
    "    \n",
    "    print('   |   |')\n",
    "    print(' ' + gameboard[1] + ' | ' + gameboard[2] + ' | ' + gameboard[3])\n",
    "    print('   |   |')\n",
    "    print('************')\n",
    "    print(' ' + gameboard[4] + ' | ' + gameboard[5] + ' | ' + gameboard[6])\n",
    "    print('   |   |')\n",
    "    print('************')\n",
    "    print(' ' + gameboard[7] + ' | ' + gameboard[8] + ' | ' + gameboard[9])\n",
    "    print('   |   |')\n",
    "\n",
    "test_board = ['#','X','O','X','O','X','O','X','O','X']\n",
    "\n",
    "display_board(test_board)"
   ]
  },
  {
   "cell_type": "code",
   "execution_count": null,
   "id": "4a08c875",
   "metadata": {
    "pycharm": {
     "name": "#%%\n"
    }
   },
   "outputs": [],
   "source": [
    "game_list = [0,1,2,3,4,5,6,7,8]"
   ]
  },
  {
   "cell_type": "code",
   "execution_count": 3,
   "id": "b3f67912",
   "metadata": {
    "pycharm": {
     "name": "#%%\n"
    }
   },
   "outputs": [],
   "source": [
    "def display_game(game_list):\n",
    "    print(\"Here is the current list: \")\n",
    "    print(game_list)"
   ]
  },
  {
   "cell_type": "code",
   "execution_count": 4,
   "id": "19db7422",
   "metadata": {
    "pycharm": {
     "name": "#%%\n"
    }
   },
   "outputs": [
    {
     "name": "stdout",
     "output_type": "stream",
     "text": [
      "Here is the current list: \n",
      "[0, 1, 2]\n"
     ]
    }
   ],
   "source": [
    "display_game(game_list)"
   ]
  },
  {
   "cell_type": "code",
   "execution_count": 5,
   "id": "da049cfb",
   "metadata": {
    "pycharm": {
     "name": "#%%\n"
    }
   },
   "outputs": [],
   "source": [
    "def position_choice():\n",
    "    \n",
    "    choice = 'wrong'\n",
    "    \n",
    "    while choice not in ['0', '1', '2']:\n",
    "        \n",
    "        choice = input(\"Pick a position (0,1,2): \")\n",
    "        \n",
    "        if choice not in ['0', '1', '2']:\n",
    "            print(\"Sorry, invalid choice! \")\n",
    "            \n",
    "    return int(choice)\n"
   ]
  },
  {
   "cell_type": "code",
   "execution_count": 6,
   "id": "89ea8e60",
   "metadata": {
    "pycharm": {
     "name": "#%%\n"
    }
   },
   "outputs": [
    {
     "name": "stdout",
     "output_type": "stream",
     "text": [
      "Pick a position (0,1,2): 0\n"
     ]
    },
    {
     "data": {
      "text/plain": [
       "0"
      ]
     },
     "execution_count": 6,
     "metadata": {},
     "output_type": "execute_result"
    }
   ],
   "source": [
    "position_choice()"
   ]
  },
  {
   "cell_type": "code",
   "execution_count": 7,
   "id": "b776429d",
   "metadata": {
    "pycharm": {
     "name": "#%%\n"
    }
   },
   "outputs": [
    {
     "name": "stdout",
     "output_type": "stream",
     "text": [
      "Pick a position (0,1,2): 1\n"
     ]
    },
    {
     "data": {
      "text/plain": [
       "1"
      ]
     },
     "execution_count": 7,
     "metadata": {},
     "output_type": "execute_result"
    }
   ],
   "source": [
    "position_choice()"
   ]
  },
  {
   "cell_type": "code",
   "execution_count": 8,
   "id": "c8c101b0",
   "metadata": {
    "pycharm": {
     "name": "#%%\n"
    }
   },
   "outputs": [],
   "source": [
    "def replacement_choice(game_list, position):\n",
    "    \n",
    "    user_placement = input(\"Type a string to place at position: \")\n",
    "    \n",
    "    game_list[position] = user_placement\n",
    "    \n",
    "    return game_list\n",
    "    "
   ]
  },
  {
   "cell_type": "code",
   "execution_count": 9,
   "id": "7cfd75fa",
   "metadata": {
    "pycharm": {
     "name": "#%%\n"
    }
   },
   "outputs": [
    {
     "name": "stdout",
     "output_type": "stream",
     "text": [
      "Type a string to place at position: x\n"
     ]
    },
    {
     "data": {
      "text/plain": [
       "[0, 'x', 2]"
      ]
     },
     "execution_count": 9,
     "metadata": {},
     "output_type": "execute_result"
    }
   ],
   "source": [
    "replacement_choice(game_list,1)"
   ]
  },
  {
   "cell_type": "code",
   "execution_count": 18,
   "id": "c8d02e95",
   "metadata": {
    "pycharm": {
     "name": "#%%\n"
    }
   },
   "outputs": [],
   "source": [
    "def gameon_choice():\n",
    "    \n",
    "    choice = 'wrong'\n",
    "    \n",
    "    while choice not in ['Y'.casefold(), 'N'.casefold()]:\n",
    "        \n",
    "        choice = input(\"Keep playing? (Y or N) \")\n",
    "        \n",
    "        if choice not in ['Y'.casefold(), 'N'.casefold()]:\n",
    "            print(\"Sorry, I dont understand, please choose Y or N \")\n",
    "            \n",
    "    if choice == \"Y\".casefold():\n",
    "        return True\n",
    "    else:\n",
    "        return False"
   ]
  },
  {
   "cell_type": "code",
   "execution_count": 19,
   "id": "299bfea9",
   "metadata": {
    "pycharm": {
     "name": "#%%\n"
    }
   },
   "outputs": [
    {
     "name": "stdout",
     "output_type": "stream",
     "text": [
      "Keep playing? (Y or N) n\n"
     ]
    },
    {
     "data": {
      "text/plain": [
       "False"
      ]
     },
     "execution_count": 19,
     "metadata": {},
     "output_type": "execute_result"
    }
   ],
   "source": [
    "gameon_choice()"
   ]
  },
  {
   "cell_type": "code",
   "execution_count": 12,
   "id": "ac8dd875",
   "metadata": {
    "pycharm": {
     "name": "#%%\n"
    }
   },
   "outputs": [
    {
     "name": "stdout",
     "output_type": "stream",
     "text": [
      "Here is the current list: \n",
      "[0, 1, 2]\n",
      "Pick a position (0,1,2): 2\n",
      "Type a string to place at position: x\n",
      "Here is the current list: \n",
      "[0, 1, 'x']\n",
      "Keep playing? (Y or N) Y\n",
      "Here is the current list: \n",
      "[0, 1, 'x']\n",
      "Pick a position (0,1,2): 0\n",
      "Type a string to place at position: x\n",
      "Here is the current list: \n",
      "['x', 1, 'x']\n",
      "Keep playing? (Y or N) y\n",
      "Sorry, I dont understand, please choose Y or N \n",
      "Keep playing? (Y or N) Y\n",
      "Here is the current list: \n",
      "['x', 1, 'x']\n",
      "Pick a position (0,1,2): 1\n",
      "Type a string to place at position: x\n",
      "Here is the current list: \n",
      "['x', 'x', 'x']\n",
      "Keep playing? (Y or N) Y\n",
      "Here is the current list: \n",
      "['x', 'x', 'x']\n",
      "Pick a position (0,1,2): 1\n",
      "Type a string to place at position: o\n",
      "Here is the current list: \n",
      "['x', 'o', 'x']\n",
      "Keep playing? (Y or N) N\n"
     ]
    }
   ],
   "source": [
    "game_on = True\n",
    "game_list = [0,1,2]\n",
    "\n",
    "while game_on:\n",
    "    display_game(game_list)\n",
    "    \n",
    "    position = position_choice()\n",
    "    \n",
    "    game_list = replacement_choice(game_list,position)\n",
    "    \n",
    "    display_game(game_list)\n",
    "    \n",
    "    game_on = gameon_choice()"
   ]
  },
  {
   "cell_type": "code",
   "execution_count": null,
   "id": "9e74fc56",
   "metadata": {
    "pycharm": {
     "name": "#%%\n"
    }
   },
   "outputs": [],
   "source": [
    "# this part of the code needs to be reviewed and updated to work\n",
    "# after which alterations should be made to make it run differently from\n",
    "# the base game create don the course"
   ]
  },
  {
   "cell_type": "code",
   "execution_count": null,
   "id": "2a808b00",
   "metadata": {
    "pycharm": {
     "name": "#%%\n"
    }
   },
   "outputs": [],
   "source": [
    "from IPython.display import clear_output\n",
    "\n",
    "def display_board(gameboard):\n",
    "    clear_output()\n",
    "    \n",
    "    print('   |   |')\n",
    "    print(' ' + gameboard[1] + ' | ' + gameboard[2] + ' | ' + gameboard[3])\n",
    "    print('   |   |')\n",
    "    print('************')\n",
    "    print(' ' + gameboard[4] + ' | ' + gameboard[5] + ' | ' + gameboard[6])\n",
    "    print('   |   |')\n",
    "    print('************')\n",
    "    print(' ' + gameboard[7] + ' | ' + gameboard[8] + ' | ' + gameboard[9])\n",
    "    print('   |   |')\n",
    "\n",
    "test_board = ['#','X','O','X','O','X','O','X','O','X']\n",
    "\n",
    "display_board(test_board)"
   ]
  },
  {
   "cell_type": "code",
   "execution_count": null,
   "id": "981bad93",
   "metadata": {
    "pycharm": {
     "name": "#%%\n"
    }
   },
   "outputs": [],
   "source": [
    "gameboard = ['#','X','O','X','O','X','O','X','O','X']"
   ]
  },
  {
   "cell_type": "code",
   "execution_count": null,
   "id": "2b203498",
   "metadata": {
    "pycharm": {
     "name": "#%%\n"
    }
   },
   "outputs": [],
   "source": [
    "def player_input():\n",
    "    \n",
    "    marker = ''\n",
    "    \n",
    "    while not(marker == 'X' or marker == 'O'):\n",
    "        marker = input('Player 1: Do you want to be X or O?').casefold()\n",
    "        \n",
    "    if marker == 'X'.casefold():\n",
    "        return('X','O')\n",
    "    else:\n",
    "        return('O','X')"
   ]
  },
  {
   "cell_type": "code",
   "execution_count": null,
   "id": "45f99993",
   "metadata": {
    "pycharm": {
     "name": "#%%\n"
    }
   },
   "outputs": [],
   "source": [
    "player_input()"
   ]
  },
  {
   "cell_type": "code",
   "execution_count": null,
   "id": "170c99b3",
   "metadata": {
    "pycharm": {
     "name": "#%%\n"
    }
   },
   "outputs": [],
   "source": [
    "def place_marker(board,marker,position):\n",
    "    board[position] = marker\n",
    "\n",
    "place_marker(gameboard, '$', 8)\n",
    "display_board(gameboard)"
   ]
  },
  {
   "cell_type": "code",
   "execution_count": null,
   "id": "59e9143d",
   "metadata": {
    "pycharm": {
     "name": "#%%\n"
    }
   },
   "outputs": [],
   "source": [
    "place_marker(gameboard,'$',8)\n",
    "display_board(gameboard)"
   ]
  },
  {
   "cell_type": "code",
   "execution_count": null,
   "id": "c4871ebf",
   "metadata": {
    "pycharm": {
     "name": "#%%\n"
    }
   },
   "outputs": [],
   "source": [
    "def win_check(board,mark):\n",
    "    mark = ''\n",
    "    positions = []\n",
    "    for mark in board[]:\n",
    "        position = position.append(board[])\n",
    "        if sum(board[])%3 == 0:\n",
    "            return True"
   ]
  },
  {
   "cell_type": "code",
   "execution_count": null,
   "id": "e42cc1ef",
   "metadata": {
    "pycharm": {
     "name": "#%%\n"
    }
   },
   "outputs": [],
   "source": [
    "win_check(test_board,'X')"
   ]
  },
  {
   "cell_type": "code",
   "execution_count": null,
   "id": "1c784ba8",
   "metadata": {
    "pycharm": {
     "name": "#%%\n"
    }
   },
   "outputs": [],
   "source": [
    "import random\n",
    "\n",
    "def choose_first():\n",
    "    if random.randint(0,1) == 0:\n",
    "        return \"SecondPlayer\"\n",
    "    else:\n",
    "        return \"FirstPlayer\""
   ]
  },
  {
   "cell_type": "code",
   "execution_count": null,
   "id": "3a0a2522",
   "metadata": {
    "pycharm": {
     "name": "#%%\n"
    }
   },
   "outputs": [],
   "source": [
    "def space_check(board,position):\n",
    "    return board[position] == ' '"
   ]
  },
  {
   "cell_type": "code",
   "execution_count": null,
   "id": "2126341d",
   "metadata": {
    "pycharm": {
     "name": "#%%\n"
    }
   },
   "outputs": [],
   "source": [
    "def full_board_check(board):\n",
    "    for i in range(1,10):\n",
    "        if space_check(board,i):\n",
    "            return False\n",
    "    return True"
   ]
  },
  {
   "cell_type": "code",
   "execution_count": null,
   "id": "31953c74",
   "metadata": {
    "pycharm": {
     "name": "#%%\n"
    }
   },
   "outputs": [],
   "source": [
    "def player_choice(board):\n",
    "    \n",
    "    position = 0\n",
    "    \n",
    "    while position not in [1,2,3,4,5,6,7,8,9] or not space_check(board, position)\n",
    "        position = int(input('Pick position: (1-9)'))"
   ]
  },
  {
   "cell_type": "code",
   "execution_count": null,
   "id": "c13c14d0",
   "metadata": {
    "pycharm": {
     "name": "#%%\n"
    }
   },
   "outputs": [],
   "source": [
    "def replyay():\n",
    "    return input('continue playing? Yes or No: ').casefold().startwith('y')"
   ]
  },
  {
   "cell_type": "code",
   "execution_count": 20,
   "id": "81bdc5a7",
   "metadata": {
    "pycharm": {
     "name": "#%%\n"
    }
   },
   "outputs": [
    {
     "ename": "SyntaxError",
     "evalue": "invalid syntax (271263945.py, line 16)",
     "output_type": "error",
     "traceback": [
      "\u001B[1;36m  Input \u001B[1;32mIn [20]\u001B[1;36m\u001B[0m\n\u001B[1;33m    return play_game[]\u001B[0m\n\u001B[1;37m                     ^\u001B[0m\n\u001B[1;31mSyntaxError\u001B[0m\u001B[1;31m:\u001B[0m invalid syntax\n"
     ]
    }
   ],
   "source": [
    "print('Welcome to Tic Tac Toe')\n",
    "\n",
    "while True:\n",
    "    thegameboard = [' ']*10\n",
    "    player1_play, player2_play = player_input()\n",
    "    turn = choose_first()\n",
    "    print(turn + 'will go first.')\n",
    "    \n",
    "    play_game = input('Ready? Yes or No.')\n",
    "    \n",
    "    if play_game.lower()[0] == 'y':\n",
    "        game_on = True\n",
    "    elif play_game.lower()[0] == 'n':\n",
    "        game_on = False\n",
    "    else:\n",
    "        return play_game[]\n",
    "    \n",
    "    while game_on:\n",
    "        if turn == 'FirstPlayer':\n",
    "            \n",
    "            gameboard(thegameboard)\n",
    "            position = player_choice(thegameboard)\n",
    "            place_market(thegameboard, firstplayer_marker, position)\n",
    "            \n",
    "            if win_check(thegameboard, firstplayer_marker):\n",
    "                display_board(thegameboard)\n",
    "                print('Yooo! you smashed it')\n",
    "                game_on = False\n",
    "            else:\n",
    "                if full_board_check(thegameboard):\n",
    "                    display_board(thegameboard)\n",
    "                    print('you both lose')\n",
    "                    break\n",
    "                else:\n",
    "                    turn = \"SecondPlayer\"\n",
    "        else:\n",
    "            display_board(thegameboard)\n",
    "            position = player_choice(thegameboard)\n",
    "            place_marker(thegameboard,secondplayer_marker,position)\n",
    "            \n",
    "            if win_check(thegameboard, secondplayer_marker):\n",
    "                display_board(thegameboard)\n",
    "                print(\"second player won you knob\")\n",
    "                game_on = False\n",
    "            else:\n",
    "                if full_board_check(thegameboard):\n",
    "                    display_board(thegameboard)\n",
    "                    print('you both lose')\n",
    "                    break\n",
    "                else:\n",
    "                    turn = 'Firstplayer'\n",
    "    if not replay():\n",
    "        break"
   ]
  },
  {
   "cell_type": "code",
   "execution_count": null,
   "id": "23c56843",
   "metadata": {
    "pycharm": {
     "name": "#%%\n"
    }
   },
   "outputs": [],
   "source": []
  }
 ],
 "metadata": {
  "kernelspec": {
   "display_name": "Python 3 (ipykernel)",
   "language": "python",
   "name": "python3"
  },
  "language_info": {
   "codemirror_mode": {
    "name": "ipython",
    "version": 3
   },
   "file_extension": ".py",
   "mimetype": "text/x-python",
   "name": "python",
   "nbconvert_exporter": "python",
   "pygments_lexer": "ipython3",
   "version": "3.9.12"
  }
 },
 "nbformat": 4,
 "nbformat_minor": 5
}